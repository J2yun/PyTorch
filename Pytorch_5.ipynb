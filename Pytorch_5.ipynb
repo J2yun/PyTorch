{
  "nbformat": 4,
  "nbformat_minor": 0,
  "metadata": {
    "colab": {
      "name": "Pytorch_5.ipynb",
      "provenance": [],
      "collapsed_sections": [],
      "authorship_tag": "ABX9TyNaqBLqMIV1crNHJiXX4+Rk",
      "include_colab_link": true
    },
    "kernelspec": {
      "name": "python3",
      "display_name": "Python 3"
    }
  },
  "cells": [
    {
      "cell_type": "markdown",
      "metadata": {
        "id": "view-in-github",
        "colab_type": "text"
      },
      "source": [
        "<a href=\"https://colab.research.google.com/github/J2yun/PyTorch/blob/master/Pytorch_5.ipynb\" target=\"_parent\"><img src=\"https://colab.research.google.com/assets/colab-badge.svg\" alt=\"Open In Colab\"/></a>"
      ]
    },
    {
      "cell_type": "markdown",
      "metadata": {
        "id": "sXBk5whsDvHH",
        "colab_type": "text"
      },
      "source": [
        "# **Gradient Descent**"
      ]
    },
    {
      "cell_type": "code",
      "metadata": {
        "id": "faN9EZxEDsJ9",
        "colab_type": "code",
        "colab": {}
      },
      "source": [
        "import torch"
      ],
      "execution_count": 0,
      "outputs": []
    },
    {
      "cell_type": "markdown",
      "metadata": {
        "id": "y4mfSZT4D_Pb",
        "colab_type": "text"
      },
      "source": [
        "1. Gradient Descent 활용"
      ]
    },
    {
      "cell_type": "code",
      "metadata": {
        "id": "2ehb1zxLD4UU",
        "colab_type": "code",
        "colab": {
          "base_uri": "https://localhost:8080/",
          "height": 219
        },
        "outputId": "60a3a6ed-4d07-4e47-dcfd-b8e7dc108936"
      },
      "source": [
        "# Data\n",
        "x_train = torch.FloatTensor([[1], [2], [3]])\n",
        "y_train = torch.FloatTensor([[1], [2], [3]])\n",
        "\n",
        "# Model 초기화\n",
        "W = torch.zeros(1)\n",
        "lr = 0.1\n",
        "\n",
        "nb_epochs = 10\n",
        "for epoch in range(nb_epochs + 1):\n",
        "    # H(x) 계산\n",
        "    hypothesis = x_train * W\n",
        "\n",
        "    # cost and gradient 계산\n",
        "    cost = torch.mean((hypothesis - y_train) ** 2)\n",
        "    gradient = torch.sum((W * x_train - y_train) * x_train)\n",
        "\n",
        "    print('Epoch {:4d}/{} W: {:.3f} Cost: {:.6f}'.format(\n",
        "        epoch, nb_epochs, W.item(), cost.item()))\n",
        "    \n",
        "    # gradient descent\n",
        "    W -= lr*gradient"
      ],
      "execution_count": 8,
      "outputs": [
        {
          "output_type": "stream",
          "text": [
            "Epoch    0/10 W: 0.000 Cost: 4.666667\n",
            "Epoch    1/10 W: 1.400 Cost: 0.746666\n",
            "Epoch    2/10 W: 0.840 Cost: 0.119467\n",
            "Epoch    3/10 W: 1.064 Cost: 0.019115\n",
            "Epoch    4/10 W: 0.974 Cost: 0.003058\n",
            "Epoch    5/10 W: 1.010 Cost: 0.000489\n",
            "Epoch    6/10 W: 0.996 Cost: 0.000078\n",
            "Epoch    7/10 W: 1.002 Cost: 0.000013\n",
            "Epoch    8/10 W: 0.999 Cost: 0.000002\n",
            "Epoch    9/10 W: 1.000 Cost: 0.000000\n",
            "Epoch   10/10 W: 1.000 Cost: 0.000000\n"
          ],
          "name": "stdout"
        }
      ]
    },
    {
      "cell_type": "markdown",
      "metadata": {
        "id": "5lByYnRjFLg7",
        "colab_type": "text"
      },
      "source": [
        "2. Optimizer 이용"
      ]
    },
    {
      "cell_type": "code",
      "metadata": {
        "id": "6TVHqIeKEef8",
        "colab_type": "code",
        "colab": {}
      },
      "source": [
        "import torch.optim as optim"
      ],
      "execution_count": 0,
      "outputs": []
    },
    {
      "cell_type": "code",
      "metadata": {
        "id": "lFZaaOyTFUHL",
        "colab_type": "code",
        "colab": {
          "base_uri": "https://localhost:8080/",
          "height": 422
        },
        "outputId": "4b493b5b-38cb-4af5-9187-99050f2b6eae"
      },
      "source": [
        "# Model 초기화\n",
        "W = torch.zeros(1, requires_grad = True)\n",
        "optimizer = optim.SGD([W], lr=0.1)\n",
        "\n",
        "nb_epochs = 10\n",
        "for epoch in range(nb_epochs + 1):\n",
        "    # H(x) 계산\n",
        "    hypothesis = x_train * W\n",
        "\n",
        "    # cost and gradient 계산\n",
        "    cost = torch.mean((hypothesis - y_train) ** 2)\n",
        "\n",
        "    print('Epoch {:4d}/{} W: {:.3f} Cost: {:.6f}'.format(\n",
        "        epoch, nb_epochs, W.item(), cost.item()))\n",
        "    \n",
        "    optimizer.zero_grad() # gradient 0으로 초기화\n",
        "    cost.backward() # gradient 계산 backward가 미분하는거 같음\n",
        "    optimizer.step() # gradient descent"
      ],
      "execution_count": 16,
      "outputs": [
        {
          "output_type": "stream",
          "text": [
            "Epoch    0/10 W: 0.000 Cost: 4.666667\n",
            "tensor([0.], requires_grad=True) tensor(4.6667, grad_fn=<MeanBackward0>)\n",
            "Epoch    1/10 W: 0.933 Cost: 0.020741\n",
            "tensor([0.9333], requires_grad=True) tensor(0.0207, grad_fn=<MeanBackward0>)\n",
            "Epoch    2/10 W: 0.996 Cost: 0.000092\n",
            "tensor([0.9956], requires_grad=True) tensor(9.2181e-05, grad_fn=<MeanBackward0>)\n",
            "Epoch    3/10 W: 1.000 Cost: 0.000000\n",
            "tensor([0.9997], requires_grad=True) tensor(4.0965e-07, grad_fn=<MeanBackward0>)\n",
            "Epoch    4/10 W: 1.000 Cost: 0.000000\n",
            "tensor([1.0000], requires_grad=True) tensor(1.8274e-09, grad_fn=<MeanBackward0>)\n",
            "Epoch    5/10 W: 1.000 Cost: 0.000000\n",
            "tensor([1.0000], requires_grad=True) tensor(7.7165e-12, grad_fn=<MeanBackward0>)\n",
            "Epoch    6/10 W: 1.000 Cost: 0.000000\n",
            "tensor([1.0000], requires_grad=True) tensor(9.9476e-14, grad_fn=<MeanBackward0>)\n",
            "Epoch    7/10 W: 1.000 Cost: 0.000000\n",
            "tensor([1.], requires_grad=True) tensor(0., grad_fn=<MeanBackward0>)\n",
            "Epoch    8/10 W: 1.000 Cost: 0.000000\n",
            "tensor([1.], requires_grad=True) tensor(0., grad_fn=<MeanBackward0>)\n",
            "Epoch    9/10 W: 1.000 Cost: 0.000000\n",
            "tensor([1.], requires_grad=True) tensor(0., grad_fn=<MeanBackward0>)\n",
            "Epoch   10/10 W: 1.000 Cost: 0.000000\n",
            "tensor([1.], requires_grad=True) tensor(0., grad_fn=<MeanBackward0>)\n"
          ],
          "name": "stdout"
        }
      ]
    }
  ]
}